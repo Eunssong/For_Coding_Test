{
  "nbformat": 4,
  "nbformat_minor": 0,
  "metadata": {
    "colab": {
      "provenance": []
    },
    "kernelspec": {
      "name": "python3",
      "display_name": "Python 3"
    },
    "language_info": {
      "name": "python"
    }
  },
  "cells": [
    {
      "cell_type": "markdown",
      "source": [
        "# 입출력\n",
        "- 파이썬에서는 입력 받을 때, input()을 사용한다.\n",
        "- input()의 경우 한 줄의 문자열을 입력받도록 해준다.\n",
        "- 여러 개의 데이터를 입력받을 때는 데이터가 공백으로 구분되는 경우가 많다.\n",
        "\n",
        "- 입력받은 문자열을 띄어쓰기로 구분하여 각각 정수 자료형의 데이터로 저장하는 코드의 사용빈도가 매우 높다.\n",
        "- **list(map(int, input().split()))**을 이용하면 된다. 중요한 코드!\n",
        "\n",
        "## 입력을 위한 전형적인 소스 코드"
      ],
      "metadata": {
        "id": "5yM2ncRcR-sw"
      }
    },
    {
      "cell_type": "code",
      "execution_count": 4,
      "metadata": {
        "colab": {
          "base_uri": "https://localhost:8080/"
        },
        "id": "tGos0Xy_QUL_",
        "outputId": "bd3f58bc-1855-41b6-8e44-1fedc7492f7b"
      },
      "outputs": [
        {
          "output_type": "stream",
          "name": "stdout",
          "text": [
            "5\n",
            "65 90 75 34 99\n",
            "[99, 90, 75, 65, 34]\n"
          ]
        }
      ],
      "source": [
        "# 데이터의 개수 입력\n",
        "n = int(input())\n",
        "\n",
        "# 각 데이터를 공백으로 구분하여 입력\n",
        "data = list(map(int, input().split()))\n",
        "\n",
        "data.sort(reverse = True)\n",
        "print(data)"
      ]
    },
    {
      "cell_type": "markdown",
      "source": [
        "## 공백을 기준으로 구분하여 적은 수의 데이터 입력"
      ],
      "metadata": {
        "id": "iKAIJBPVTQXC"
      }
    },
    {
      "cell_type": "code",
      "source": [
        "# n, m, k를 공백으로 구분하여 입력\n",
        "n, m, k = map(int, input().split())\n",
        "\n",
        "print(n, m, k)"
      ],
      "metadata": {
        "colab": {
          "base_uri": "https://localhost:8080/"
        },
        "id": "pZF6-9m7StJR",
        "outputId": "3b759ccc-33ba-48b2-eeb4-bd9f7f4b819f"
      },
      "execution_count": 5,
      "outputs": [
        {
          "output_type": "stream",
          "name": "stdout",
          "text": [
            "3 5 7\n",
            "3 5 7\n"
          ]
        }
      ]
    },
    {
      "cell_type": "markdown",
      "source": [
        "- 입력을 최대한 빠르게 받아야 하는 경우가 있다.\n",
        "- 정렬, 이진 탐색, 최단 경로 문제의 경우 많은 수의 데이터가 연속적으로 입력이 되곤 한다.\n",
        "- 이 때, 입력만 받다가 시간 초과가 되지 않기 위해서 input()은 사용하지 않는다. -> input()은 동작 속도가 느리다.\n",
        "\n",
        "- 이 경우, 파이선의 sys 라이브러리에 정의되어 있는 **sys.stdin.readline()** 함수를 이용한다.\n",
        "- sys 라이브러리는 다음과 같은 방식을 사용하며 input() 함수와 같이 한 줄씩 입력받기 위해 사용한다."
      ],
      "metadata": {
        "id": "HTbPJxauTl6R"
      }
    },
    {
      "cell_type": "code",
      "source": [
        "import sys\n",
        "sys.stdin.readline().rstrip()"
      ],
      "metadata": {
        "id": "u5isxd45TcCq"
      },
      "execution_count": null,
      "outputs": []
    },
    {
      "cell_type": "markdown",
      "source": [
        "- sys 라이브러리를 사용할 때는 한 줄 입력을 받고 나서 rstrip() 함수를 꼭 호출해야 한다.\n",
        "- readline()으로 입력하면 입력 후 엔터가 줄 바꿈 기호로 입력되는데, 이 공백 문자를 제거하려면 rstrip()함수를 사용해야 한다. **외워야한다**\n",
        "\n",
        "## readline() 사용 소스 코드 예시"
      ],
      "metadata": {
        "id": "piRf1IAhUt8P"
      }
    },
    {
      "cell_type": "code",
      "source": [
        "import sys\n",
        "\n",
        "# 문자열 입력받기\n",
        "data = sys.stdin.readline().rstrip()\n",
        "print(data)"
      ],
      "metadata": {
        "colab": {
          "base_uri": "https://localhost:8080/"
        },
        "id": "shS0XQQEWE8r",
        "outputId": "4db7f106-987d-440e-ec3d-5ed19a112d56"
      },
      "execution_count": 6,
      "outputs": [
        {
          "output_type": "stream",
          "name": "stdout",
          "text": [
            "\n"
          ]
        }
      ]
    },
    {
      "cell_type": "markdown",
      "source": [
        "## 변수 출력 예시"
      ],
      "metadata": {
        "id": "lVAAInamWeZu"
      }
    },
    {
      "cell_type": "code",
      "source": [
        "# 출력할 변수들\n",
        "a = 1\n",
        "b = 2\n",
        "\n",
        "print(a, b)\n",
        "\n",
        "# 출력 줄 바꿈 예시\n",
        "a = 1\n",
        "b = 2\n",
        "\n",
        "print(a)\n",
        "print(b)"
      ],
      "metadata": {
        "colab": {
          "base_uri": "https://localhost:8080/"
        },
        "id": "oX9NrMbCWPFw",
        "outputId": "28b8d49f-ac0a-4958-a7f1-66f96557f51c"
      },
      "execution_count": 7,
      "outputs": [
        {
          "output_type": "stream",
          "name": "stdout",
          "text": [
            "1 2\n",
            "1\n",
            "2\n"
          ]
        }
      ]
    },
    {
      "cell_type": "code",
      "source": [
        "# 출력시 오류가 발생하는 소스코드 예시\n",
        "\n",
        "# 출력할 변수들\n",
        "answer = 7\n",
        "print(\"정답은\" + answer + \"입니다.\")"
      ],
      "metadata": {
        "colab": {
          "base_uri": "https://localhost:8080/",
          "height": 223
        },
        "id": "Is1JU4ORWwiU",
        "outputId": "68c172d9-fd8c-4af2-cad9-28828ea1c7d3"
      },
      "execution_count": 8,
      "outputs": [
        {
          "output_type": "error",
          "ename": "TypeError",
          "evalue": "can only concatenate str (not \"int\") to str",
          "traceback": [
            "\u001b[0;31m---------------------------------------------------------------------------\u001b[0m",
            "\u001b[0;31mTypeError\u001b[0m                                 Traceback (most recent call last)",
            "\u001b[0;32m<ipython-input-8-ecc1dbada822>\u001b[0m in \u001b[0;36m<cell line: 5>\u001b[0;34m()\u001b[0m\n\u001b[1;32m      3\u001b[0m \u001b[0;31m# 출력할 변수들\u001b[0m\u001b[0;34m\u001b[0m\u001b[0;34m\u001b[0m\u001b[0m\n\u001b[1;32m      4\u001b[0m \u001b[0manswer\u001b[0m \u001b[0;34m=\u001b[0m \u001b[0;36m7\u001b[0m\u001b[0;34m\u001b[0m\u001b[0;34m\u001b[0m\u001b[0m\n\u001b[0;32m----> 5\u001b[0;31m \u001b[0mprint\u001b[0m\u001b[0;34m(\u001b[0m\u001b[0;34m\"정답은\"\u001b[0m \u001b[0;34m+\u001b[0m \u001b[0manswer\u001b[0m \u001b[0;34m+\u001b[0m \u001b[0;34m\"입니다.\"\u001b[0m\u001b[0;34m)\u001b[0m\u001b[0;34m\u001b[0m\u001b[0;34m\u001b[0m\u001b[0m\n\u001b[0m",
            "\u001b[0;31mTypeError\u001b[0m: can only concatenate str (not \"int\") to str"
          ]
        }
      ]
    },
    {
      "cell_type": "code",
      "source": [
        "# 변수를 문자열로 바꾸어 출력하는 소스코드 예시\n",
        "print(\"정답은\" + str(answer) + \"입니다.\")\n",
        "print(\"정답은\", answer, \"입니다.\") # ,를 사용시에 변수의 값 사이에 의도치 않은 공백이 삽입될 수 있다."
      ],
      "metadata": {
        "colab": {
          "base_uri": "https://localhost:8080/"
        },
        "id": "fvhAtwskXMeP",
        "outputId": "6bf0669c-3d2f-491a-e010-93608c8e9f64"
      },
      "execution_count": 9,
      "outputs": [
        {
          "output_type": "stream",
          "name": "stdout",
          "text": [
            "정답은7입니다.\n",
            "정답은 7 입니다.\n"
          ]
        }
      ]
    },
    {
      "cell_type": "code",
      "source": [
        "# f-string 사용하기\n",
        "print(f\"정답은 {answer}입니다.\")"
      ],
      "metadata": {
        "colab": {
          "base_uri": "https://localhost:8080/"
        },
        "id": "Apv17bYOXgi6",
        "outputId": "f4beb94f-7db4-4c9e-c5de-1f7c65d5bccb"
      },
      "execution_count": 10,
      "outputs": [
        {
          "output_type": "stream",
          "name": "stdout",
          "text": [
            "정답은 7입니다.\n"
          ]
        }
      ]
    }
  ]
}