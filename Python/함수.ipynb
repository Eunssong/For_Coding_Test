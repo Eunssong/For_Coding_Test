{
 "cells": [
  {
   "cell_type": "markdown",
   "id": "4bc10a56",
   "metadata": {},
   "source": [
    "# 함수\n",
    "- 코딩테스트에서 반복적인 코드를 함수화하면 매우 효과적으로 풀 수 있다.\n",
    "\n",
    "- 함수를 작성할 때는 함수 내부에서 사용되는 변수의 값을 전달받기 위해 매개 변수를 정의할 수 있다.\n",
    "- 이후 함수에서 어떠한 값을 반환하고자 할 때는 return을 이용한다.\n",
    "- 함수에서 매개변수나 리턴 값은 존재하지 않을 수도 있다.\n"
   ]
  },
  {
   "cell_type": "code",
   "execution_count": null,
   "id": "867fda6a",
   "metadata": {},
   "outputs": [],
   "source": [
    "def 함수명(매개변수):\n",
    "    실행할 소스 코드\n",
    "    return 반환 값"
   ]
  },
  {
   "cell_type": "code",
   "execution_count": 1,
   "id": "c4ac547b",
   "metadata": {},
   "outputs": [
    {
     "name": "stdout",
     "output_type": "stream",
     "text": [
      "10\n"
     ]
    }
   ],
   "source": [
    "def add(a, b):\n",
    "    return a + b\n",
    "\n",
    "print(add(3,7))"
   ]
  },
  {
   "cell_type": "code",
   "execution_count": 3,
   "id": "0b749e71",
   "metadata": {},
   "outputs": [
    {
     "name": "stdout",
     "output_type": "stream",
     "text": [
      "함수의 결과 : 10\n"
     ]
    }
   ],
   "source": [
    "def add(a, b):\n",
    "    print('함수의 결과 :', a + b)\n",
    "\n",
    "add(3,7)"
   ]
  },
  {
   "cell_type": "markdown",
   "id": "e2988431",
   "metadata": {},
   "source": [
    "- 인자(argument)를 넘겨 줄 때, 파라미터의 변수를 직접 지정해서 값을 넣어줄 수 있다.\n",
    "- 이 경우 매개 변수의 순서가 달라도 상관없다는 점이 특징이다."
   ]
  },
  {
   "cell_type": "code",
   "execution_count": 4,
   "id": "d830f37b",
   "metadata": {},
   "outputs": [
    {
     "name": "stdout",
     "output_type": "stream",
     "text": [
      "함수의 결과 : 10\n"
     ]
    }
   ],
   "source": [
    "def add(a, b):\n",
    "    print('함수의 결과 :', a + b)\n",
    "\n",
    "add(b = 3,a =7)"
   ]
  },
  {
   "cell_type": "markdown",
   "id": "c20a1166",
   "metadata": {},
   "source": [
    "- 함수 안에서 함수 밖의 변수 데이터를 변경해야 하는 경우가 있다.\n",
    "- 이떄는 함수에서 **global** 키워드로 변수를 지정하면, 해당 함수는 지역 변수를 만들지 않고, 함수 바깥에 선언된 변수를 바로 참조하게 된다."
   ]
  },
  {
   "cell_type": "code",
   "execution_count": 5,
   "id": "c2776243",
   "metadata": {},
   "outputs": [
    {
     "name": "stdout",
     "output_type": "stream",
     "text": [
      "10\n"
     ]
    }
   ],
   "source": [
    "a = 0\n",
    "\n",
    "def func():\n",
    "    global a\n",
    "    a += 1\n",
    "\n",
    "for i in range(10):\n",
    "    func()\n",
    "    \n",
    "print(a)"
   ]
  },
  {
   "cell_type": "markdown",
   "id": "100e6810",
   "metadata": {},
   "source": [
    "- 람다 표현식을 사용하면 함수를 매우 간단하게 작성하여 적용할 수 있다.\n",
    "- 파이썬의 정렬 라이브러리를 사용할 때, 정렬 기준(key)을 설정할 때도 자주 사용된다."
   ]
  },
  {
   "cell_type": "code",
   "execution_count": 6,
   "id": "ad238c2c",
   "metadata": {},
   "outputs": [
    {
     "name": "stdout",
     "output_type": "stream",
     "text": [
      "10\n",
      "10\n"
     ]
    }
   ],
   "source": [
    "def add(a, b):\n",
    "    return a + b\n",
    "\n",
    "print(add(3,7))\n",
    "\n",
    "# 람다식\n",
    "print((lambda a, b : a+b)(3, 7))"
   ]
  }
 ],
 "metadata": {
  "kernelspec": {
   "display_name": "Python 3 (ipykernel)",
   "language": "python",
   "name": "python3"
  },
  "language_info": {
   "codemirror_mode": {
    "name": "ipython",
    "version": 3
   },
   "file_extension": ".py",
   "mimetype": "text/x-python",
   "name": "python",
   "nbconvert_exporter": "python",
   "pygments_lexer": "ipython3",
   "version": "3.9.7"
  }
 },
 "nbformat": 4,
 "nbformat_minor": 5
}
