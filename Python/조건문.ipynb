{
 "cells": [
  {
   "cell_type": "markdown",
   "id": "cac22651",
   "metadata": {},
   "source": [
    "# 조건문\n",
    "- 조건문을 이용하면 조건에 따라서 프로그램의 로직을 설정할 수 있다.\n",
    "\n",
    "- if ~ elif ~else문을 이용한다.\n",
    "- elif 혹은 else 부분은 경우에 따라서 사용하지 않아도 된다.\n",
    "\n",
    "if 조건문 1 :    \n",
    "        조건문 1이 True일 때 실행되는 코드    \n",
    "elif 조건문 2:    \n",
    "        조건문 1에 해당하지 않고, 조건문 2가 True일 때 실행되는 코드    \n",
    "else:     \n",
    "        위의 모든 조건문이 모두 True 값이 아닐 때 실행되는 코드"
   ]
  },
  {
   "cell_type": "code",
   "execution_count": 1,
   "id": "78f732ac",
   "metadata": {},
   "outputs": [
    {
     "name": "stdout",
     "output_type": "stream",
     "text": [
      "학점: B\n"
     ]
    }
   ],
   "source": [
    "score = 85\n",
    "\n",
    "if score >=90:\n",
    "    print(\"학점: A\")\n",
    "elif score >= 80:\n",
    "    print(\"학점: B\")\n",
    "elif score >= 70:\n",
    "    print(\"학점: C\")\n",
    "else:\n",
    "    print(\"학점: F\")"
   ]
  },
  {
   "cell_type": "code",
   "execution_count": 2,
   "id": "dc25b4cb",
   "metadata": {},
   "outputs": [
    {
     "name": "stdout",
     "output_type": "stream",
     "text": [
      "성적이 70점 이상입니다\n",
      "프로그램을 종료합니다\n"
     ]
    }
   ],
   "source": [
    "score = 85\n",
    "\n",
    "if score >=70:\n",
    "    print(\"성적이 70점 이상입니다\")\n",
    "    if score >= 90:\n",
    "        print(\"우수한 성적입니다\")\n",
    "else:\n",
    "    print(\"성적이 70점 미만입니다\")\n",
    "    print(\"조금 더 분발하세요\")\n",
    "\n",
    "print('프로그램을 종료합니다')"
   ]
  },
  {
   "cell_type": "markdown",
   "id": "013a1974",
   "metadata": {},
   "source": [
    "## 비교 연산자\n",
    "X == Y : X와 Y가 서로 같을 때 참(True)이다.  \n",
    "X != Y : X와 Y가 서로 다를 때 참(True)이다.  \n",
    "X > Y : X가 Y보다 클 때 참(True)이다.  \n",
    "X < Y : X가 Y보다 작을 때 참(True)이다.  \n",
    "X >= Y : X가 Y보다 크거나 같을 때 참(True)이다.  \n",
    "X <= Y : X가 Y보다 작거나 같을 때 참(True)이다."
   ]
  },
  {
   "cell_type": "markdown",
   "id": "a9688f31",
   "metadata": {},
   "source": [
    "## 논리 연산자\n",
    "X and Y : X와 Y가 모두 참일 때 참이다.   \n",
    "X or Y : X와 Y 중에 하나만 참일 때 참이다.    \n",
    "not X : X가 거짓일때 참이다.  "
   ]
  },
  {
   "cell_type": "markdown",
   "id": "aaedfa98",
   "metadata": {},
   "source": [
    "## 파이썬의 기타 연산자\n",
    "- in 연산자 -> True\n",
    "- not in 연산자 -> True\n",
    "- 조건문의 값이 True일 때, 아무것도 처리하고 싶지 않을 때 pass문을 이용한다.  "
   ]
  },
  {
   "cell_type": "code",
   "execution_count": 3,
   "id": "92b6cafe",
   "metadata": {},
   "outputs": [
    {
     "name": "stdout",
     "output_type": "stream",
     "text": [
      "프로그램을 종료합니다\n"
     ]
    }
   ],
   "source": [
    "score = 85\n",
    "\n",
    "if score >=80:\n",
    "    pass # 나중에 작성할 소스코드\n",
    "else:\n",
    "    print(\"성적이 80점 미만입니다\")\n",
    "    \n",
    "print('프로그램을 종료합니다')"
   ]
  },
  {
   "cell_type": "code",
   "execution_count": 4,
   "id": "6d515e07",
   "metadata": {},
   "outputs": [
    {
     "name": "stdout",
     "output_type": "stream",
     "text": [
      "Success\n"
     ]
    }
   ],
   "source": [
    "# 간략 표현\n",
    "score = 85\n",
    "\n",
    "if score>= 80 : result = \"Success\"\n",
    "else: result = 'Fail'\n",
    "\n",
    "print(result)"
   ]
  },
  {
   "cell_type": "code",
   "execution_count": 5,
   "id": "c956b8a0",
   "metadata": {},
   "outputs": [
    {
     "data": {
      "text/plain": [
       "'Success'"
      ]
     },
     "execution_count": 5,
     "metadata": {},
     "output_type": "execute_result"
    }
   ],
   "source": [
    "# 한줄 표현 if ~ else\n",
    "score = 85\n",
    "\n",
    "reult = \"Success\" if score>= 80 else \"Fail\"\n",
    "result"
   ]
  },
  {
   "cell_type": "code",
   "execution_count": 6,
   "id": "92280bf5",
   "metadata": {},
   "outputs": [
    {
     "name": "stdout",
     "output_type": "stream",
     "text": [
      "[1, 2, 4]\n"
     ]
    }
   ],
   "source": [
    "# 리스트에 있는 원소의 값을 변경해서, 또 다른 리스트를 만들고자 할 때 매우 간결하게 사용가능하다.\n",
    "\n",
    "a = [1, 2, 3, 4, 5, 5, 5]\n",
    "remove_set = {3, 5}\n",
    "\n",
    "result = []\n",
    "for i in a: \n",
    "    if i not in remove_set:\n",
    "        result.append(i)\n",
    "\n",
    "print(result)"
   ]
  },
  {
   "cell_type": "code",
   "execution_count": 7,
   "id": "9990d8a0",
   "metadata": {},
   "outputs": [
    {
     "data": {
      "text/plain": [
       "[1, 2, 4]"
      ]
     },
     "execution_count": 7,
     "metadata": {},
     "output_type": "execute_result"
    }
   ],
   "source": [
    "# 간결하게 쓰기\n",
    "result = [i for i in a if i not in remove_set]\n",
    "result"
   ]
  },
  {
   "cell_type": "markdown",
   "id": "675b54d2",
   "metadata": {},
   "source": [
    "## 파이썬 조건문 내에서의 부등식\n",
    "- 조건문 안에서 부등식을 사용가능하다. "
   ]
  },
  {
   "cell_type": "code",
   "execution_count": 8,
   "id": "cd4ea83c",
   "metadata": {},
   "outputs": [
    {
     "name": "stdout",
     "output_type": "stream",
     "text": [
      "x는 0초과 20미만의 수입니다\n"
     ]
    }
   ],
   "source": [
    "x = 15\n",
    "if x>0 and x<20:\n",
    "    print(\"x는 0초과 20미만의 수입니다\")"
   ]
  },
  {
   "cell_type": "code",
   "execution_count": 9,
   "id": "ee61af93",
   "metadata": {},
   "outputs": [
    {
     "name": "stdout",
     "output_type": "stream",
     "text": [
      "x는 0초과 20미만의 수입니다\n"
     ]
    }
   ],
   "source": [
    "x = 15\n",
    "if 0<x<20:\n",
    "    print(\"x는 0초과 20미만의 수입니다\")"
   ]
  }
 ],
 "metadata": {
  "kernelspec": {
   "display_name": "Python 3 (ipykernel)",
   "language": "python",
   "name": "python3"
  },
  "language_info": {
   "codemirror_mode": {
    "name": "ipython",
    "version": 3
   },
   "file_extension": ".py",
   "mimetype": "text/x-python",
   "name": "python",
   "nbconvert_exporter": "python",
   "pygments_lexer": "ipython3",
   "version": "3.9.7"
  }
 },
 "nbformat": 4,
 "nbformat_minor": 5
}
