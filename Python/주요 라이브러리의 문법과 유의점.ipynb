{
 "cells": [
  {
   "cell_type": "markdown",
   "id": "9e05a639",
   "metadata": {},
   "source": [
    "표준 라이브러리란 특정한 프로그래밍 언어에서 자주 사용되는 표준 소스코드를 미리 구현해 놓은 라이브러리를 의미한다.\n",
    " - https://docs.python.org/ko/3/library/index.html\n",
    "코딩테스트 하면서 반드시 알아야 하는 6개의 라이브러리\n",
    "\n",
    "\n",
    "\n",
    "- 내장함수: print(), input(), sorted()   \n",
    "\n",
    "\n",
    "- itertools: 파이썬에서 반복되는 형태의 데이터를 처리하는 기능을 제공하는 라이브러리이다. 순열과 조합 라이브러리를 제공한다.  \n",
    "\n",
    "\n",
    "- heapq: 힙(Heap)기능을 제공하는 라이브러리이다. 우선순위 큐 기능을 구현하기 위해 사용한다.   \n",
    " \n",
    " \n",
    "- bisect: 이진탐색(Binary Search)기능을 제공하는 라이브러리이다.  \n",
    "\n",
    "\n",
    "- collections: 덱(deque), 카운터(Counter)등의 유용한 자료구조를 포함하고 있는 라이브러리이다.  \n",
    "\n",
    "\n",
    "- math: 필수적인 수학적 기능을 제공하는라이브러리이다. 팩토리얼, 제곱근, 최대공약수(GCD), 삼각함수 관련 함수부터 파이(pi)와 같은 상수를 포함하고 있다.  "
   ]
  },
  {
   "cell_type": "markdown",
   "id": "a46fc4d5",
   "metadata": {},
   "source": [
    "# 내장함수\n",
    "- 별도의 import 명령어 없이 바로 사용가능하다.\n",
    "\n",
    "- sum()함수는 리스트와 같은 iterable 객체가 입력으로 주어졌을 때, 모든 원소의 합을 반환한다."
   ]
  },
  {
   "cell_type": "code",
   "execution_count": 1,
   "id": "27b7f8bf",
   "metadata": {},
   "outputs": [
    {
     "name": "stdout",
     "output_type": "stream",
     "text": [
      "15\n"
     ]
    }
   ],
   "source": [
    "result = sum([1,2,3,4,5])\n",
    "print(result)"
   ]
  },
  {
   "cell_type": "markdown",
   "id": "ee37eb9f",
   "metadata": {},
   "source": [
    "- min() 함수는 파라미터가 2개 이상 들어왔을 때 가장 작은 값을 반환한다."
   ]
  },
  {
   "cell_type": "code",
   "execution_count": 2,
   "id": "60fdfbc3",
   "metadata": {},
   "outputs": [
    {
     "data": {
      "text/plain": [
       "2"
      ]
     },
     "execution_count": 2,
     "metadata": {},
     "output_type": "execute_result"
    }
   ],
   "source": [
    "result = min(7,3,5,2)\n",
    "result"
   ]
  },
  {
   "cell_type": "markdown",
   "id": "015bc875",
   "metadata": {},
   "source": [
    "- max()함수는 파라미터가 2개 이상 들어왔을 때 가장 큰 값을 반환한다."
   ]
  },
  {
   "cell_type": "code",
   "execution_count": 3,
   "id": "06f53e2b",
   "metadata": {},
   "outputs": [
    {
     "data": {
      "text/plain": [
       "7"
      ]
     },
     "execution_count": 3,
     "metadata": {},
     "output_type": "execute_result"
    }
   ],
   "source": [
    "result = max(7,3,5,2)\n",
    "result"
   ]
  },
  {
   "cell_type": "markdown",
   "id": "90c8e8cc",
   "metadata": {},
   "source": [
    "- eval()함수는 수학 수식이 문자열 형식으로 들어오면 해당 수식을 계산한 결과를 반환한다."
   ]
  },
  {
   "cell_type": "code",
   "execution_count": 4,
   "id": "7d9c9ddd",
   "metadata": {},
   "outputs": [
    {
     "data": {
      "text/plain": [
       "56"
      ]
     },
     "execution_count": 4,
     "metadata": {},
     "output_type": "execute_result"
    }
   ],
   "source": [
    "result = eval(\"(3+5) * 7\")\n",
    "result"
   ]
  },
  {
   "cell_type": "markdown",
   "id": "a5425835",
   "metadata": {},
   "source": [
    "- sorted()함수는 iterable 객체가 들어왔을 때, 정렬된 결과를 반환한다. key 속성으로 정렬 기준을 명시 할 수 있으며, reverse 로 오름차순 , 내림차순을 결정 가능하다. "
   ]
  },
  {
   "cell_type": "code",
   "execution_count": 5,
   "id": "0d1ffdae",
   "metadata": {},
   "outputs": [
    {
     "data": {
      "text/plain": [
       "[1, 4, 5, 8, 9]"
      ]
     },
     "execution_count": 5,
     "metadata": {},
     "output_type": "execute_result"
    }
   ],
   "source": [
    "result = sorted([9, 1, 8, 5, 4]) # 올림차순\n",
    "result"
   ]
  },
  {
   "cell_type": "code",
   "execution_count": 6,
   "id": "5307a176",
   "metadata": {},
   "outputs": [
    {
     "data": {
      "text/plain": [
       "[9, 8, 5, 4, 1]"
      ]
     },
     "execution_count": 6,
     "metadata": {},
     "output_type": "execute_result"
    }
   ],
   "source": [
    "result = sorted([9, 1, 8, 5, 4], reverse = True) # 내림차순\n",
    "result"
   ]
  },
  {
   "cell_type": "code",
   "execution_count": 7,
   "id": "e8cab9f2",
   "metadata": {},
   "outputs": [
    {
     "data": {
      "text/plain": [
       "[('이순신', 75), ('아무개', 50), ('홍길동', 35)]"
      ]
     },
     "execution_count": 7,
     "metadata": {},
     "output_type": "execute_result"
    }
   ],
   "source": [
    "result = sorted([('홍길동', 35), ('이순신', 75), ('아무개', 50)], key = lambda x: x[1], reverse = True)\n",
    "result"
   ]
  },
  {
   "cell_type": "code",
   "execution_count": 8,
   "id": "4ae707f3",
   "metadata": {},
   "outputs": [
    {
     "data": {
      "text/plain": [
       "[1, 4, 5, 8, 9]"
      ]
     },
     "execution_count": 8,
     "metadata": {},
     "output_type": "execute_result"
    }
   ],
   "source": [
    "data = [9, 1, 8, 5, 4]\n",
    "data.sort()\n",
    "data"
   ]
  },
  {
   "cell_type": "markdown",
   "id": "98894b33",
   "metadata": {},
   "source": [
    "# itertools\n",
    "- permutations\n",
    "    - 리스트와 같은 iterable 객체에서 r개의 데이터를 뽑아 일렬로 나열하는 모든 경우(순열)를 계산\n",
    "    - permutation은 클래스이므로 객체 초기화 이후에는 리스트 자료형으로 변환하여 사용된다."
   ]
  },
  {
   "cell_type": "code",
   "execution_count": 9,
   "id": "4dd8de2d",
   "metadata": {},
   "outputs": [
    {
     "data": {
      "text/plain": [
       "[('A', 'B', 'C'),\n",
       " ('A', 'C', 'B'),\n",
       " ('B', 'A', 'C'),\n",
       " ('B', 'C', 'A'),\n",
       " ('C', 'A', 'B'),\n",
       " ('C', 'B', 'A')]"
      ]
     },
     "execution_count": 9,
     "metadata": {},
     "output_type": "execute_result"
    }
   ],
   "source": [
    "from itertools import permutations\n",
    "\n",
    "data = ['A', 'B', 'C'] # 데이터 준비\n",
    "\n",
    "result = list(permutations(data, 3)) # 모든 순열 구하기\n",
    "\n",
    "result"
   ]
  },
  {
   "cell_type": "markdown",
   "id": "daf02356",
   "metadata": {},
   "source": [
    "- combinations\n",
    "    - 리스트와 같은 iterable객체에서 r개의 데이터를 뽑아 순서를 고려하지 않고 나열하는 모든 경우(조합)를 계산한다.\n",
    "    - combinations은 클래스이므로 객체 초기화 이후에는 리스트 자료형으로 변환하여 사용된다."
   ]
  },
  {
   "cell_type": "code",
   "execution_count": 10,
   "id": "4aaa17b3",
   "metadata": {},
   "outputs": [
    {
     "data": {
      "text/plain": [
       "[('A', 'B'), ('A', 'C'), ('B', 'C')]"
      ]
     },
     "execution_count": 10,
     "metadata": {},
     "output_type": "execute_result"
    }
   ],
   "source": [
    "from itertools import combinations\n",
    "data = ['A', 'B', 'C'] # 데이터 준비\n",
    "\n",
    "result = list(combinations(data, 2)) # 2개를 뽑는 모든 조합 구하기\n",
    "\n",
    "result"
   ]
  },
  {
   "cell_type": "markdown",
   "id": "d8240b4c",
   "metadata": {},
   "source": [
    "- product\n",
    "    - permutations와 같이 리스트와 같은 iterable 객체에서 r개의 데이터를 뽑아 이렬로 나열하는 모든 경우(순열)를 계산한다.\n",
    "    - 원소를 중복하여 뽑는다.\n",
    "    - product 객체를 초기화할 때는 뽑고자 하는 데이터의 수를 repeat 속성값으로 넣어준다."
   ]
  },
  {
   "cell_type": "code",
   "execution_count": 11,
   "id": "d2f0c660",
   "metadata": {},
   "outputs": [
    {
     "data": {
      "text/plain": [
       "[('A', 'A'),\n",
       " ('A', 'B'),\n",
       " ('A', 'C'),\n",
       " ('B', 'A'),\n",
       " ('B', 'B'),\n",
       " ('B', 'C'),\n",
       " ('C', 'A'),\n",
       " ('C', 'B'),\n",
       " ('C', 'C')]"
      ]
     },
     "execution_count": 11,
     "metadata": {},
     "output_type": "execute_result"
    }
   ],
   "source": [
    "from itertools import product\n",
    "data = ['A', 'B', 'C'] # 데이터 준비\n",
    "\n",
    "result = list(product(data, repeat = 2)) # 2개를 뽑는 모든 순열 구하기 (중복허용)\n",
    "\n",
    "result"
   ]
  },
  {
   "cell_type": "markdown",
   "id": "20985c75",
   "metadata": {},
   "source": [
    "- combinations_with_replacement\n",
    "    - combinations와 같은 iterable객체에서 r개의 데이터를 뽑아 순서를 고려하지 않고 나열하는 모든 경우(조합)를 계산한다.\n",
    "    - 다만 원소를 중복해서 뽑는다.\n",
    "    - 클래스이므로 객체 초기화 이후에는 리스트 자료형으로 변환하여 사용된다."
   ]
  },
  {
   "cell_type": "code",
   "execution_count": 12,
   "id": "2f89f8d6",
   "metadata": {},
   "outputs": [
    {
     "data": {
      "text/plain": [
       "[('A', 'A'), ('A', 'B'), ('A', 'C'), ('B', 'B'), ('B', 'C'), ('C', 'C')]"
      ]
     },
     "execution_count": 12,
     "metadata": {},
     "output_type": "execute_result"
    }
   ],
   "source": [
    "from itertools import combinations_with_replacement\n",
    "data = ['A', 'B', 'C'] # 데이터 준비\n",
    "\n",
    "result = list(combinations_with_replacement(data, 2)) # 2개를 뽑는 모든 조합 구하기(중복허용)\n",
    "\n",
    "result"
   ]
  },
  {
   "cell_type": "markdown",
   "id": "bd1cc3a3",
   "metadata": {},
   "source": [
    "# heapq\n",
    "- 힙(heap)기능을 위해 제공되는 라이브러리\n",
    "- heapq는 다익스트라 최단 경로 알고리즘을 포함해 다양한 알고리즘에서 우선순위 큐 기능을 구현하고자 할 때 사용된다.\n",
    "- heapq외에 PriorityQueue 라이브러리를 사용할 수는 있지만, 파이썬 환경에서는 보통 heqpq가 더 빠르게 동작한다.\n",
    "\n",
    "- 파이썬의 힙은 최소 힙(Min Heap)으로 구성되어 있으므로 시간 복잡도 O(NlogN)에 오름차순 정렬이 완료된다. -> 최상단 원소는 항상 가장 작은 원소\n",
    "- 힙에 원소를 삽입할 때는 heapq.heappop() 메서드를 사용한다."
   ]
  },
  {
   "cell_type": "code",
   "execution_count": 15,
   "id": "f317c854",
   "metadata": {},
   "outputs": [
    {
     "name": "stdout",
     "output_type": "stream",
     "text": [
      "[0, 1, 2, 3, 4, 5, 6, 7, 8, 9]\n"
     ]
    }
   ],
   "source": [
    "# 힙 정렬\n",
    "import heapq\n",
    "\n",
    "def heapsort(iterable):\n",
    "    h = []\n",
    "    result = []\n",
    "    # 모든 원소를 차례대로 힙에 삽입\n",
    "    for value in iterable:\n",
    "        heapq.heappush(h, value)\n",
    "    # 힙에 삽입된 모든 원소를 차례대로 꺼내어 담기\n",
    "    for _ in range(len(h)):\n",
    "        result.append(heapq.heappop(h))\n",
    "    return result\n",
    "\n",
    "result = heapsort([1, 3, 5, 7, 9, 2, 4, 6, 8, 0])\n",
    "print(result)"
   ]
  },
  {
   "cell_type": "code",
   "execution_count": 16,
   "id": "4c3926ed",
   "metadata": {},
   "outputs": [
    {
     "name": "stdout",
     "output_type": "stream",
     "text": [
      "[9, 8, 7, 6, 5, 4, 3, 2, 1, 0]\n"
     ]
    }
   ],
   "source": [
    "# 최대 힙 -> 지원을 안해서 직접 구현해야 함\n",
    "import heapq\n",
    "\n",
    "def heapsort(iterable):\n",
    "    h = []\n",
    "    result = []\n",
    "    # 모든 원소들을 차례로 힙에 삽입\n",
    "    for value in iterable:\n",
    "        heapq.heappush(h, -value)\n",
    "    # 힙에 삽입된 모든 원소를 차례대로 꺼내어 담기\n",
    "    for _ in range(len(h)):\n",
    "        result.append(-heapq.heappop(h))\n",
    "    return result\n",
    "\n",
    "result = heapsort([1, 3, 5, 7, 9, 2, 4, 6, 8, 0])\n",
    "print(result)"
   ]
  },
  {
   "cell_type": "markdown",
   "id": "266d0d80",
   "metadata": {},
   "source": [
    "# bisect\n",
    "- 이진 탐색을 쉽게 구현 할 수 있게 해주는 파이썬 라이브러리\n",
    "- '정렬된 배열'에서 특정한 원소를 찾아야 할 때 매우 효과적으로 사용된다.\n",
    "- **bisect_left(), bisect_right()** 가 중요하며 시간 복잡도가 O(logN)에 동작한다\n",
    "    - bisect_left(a, x): 정렬된 순서를 유지하면서 리스트 a에 데이터 x를 삽입할 가장 왼쪽 인덱스를 찾는 메서드\n",
    "    - bisect_right(a, x): 정렬된 순서를 유지하면서 리스트 a에 데이터 x를 삽입할 가장 오른쪽 인덱스를 찾는 메서드"
   ]
  },
  {
   "cell_type": "code",
   "execution_count": 17,
   "id": "371be68c",
   "metadata": {},
   "outputs": [
    {
     "name": "stdout",
     "output_type": "stream",
     "text": [
      "2\n",
      "4\n"
     ]
    }
   ],
   "source": [
    "from bisect import bisect_left, bisect_right\n",
    "\n",
    "a = [1,2,4,4,8]\n",
    "x = 4\n",
    "\n",
    "print(bisect_left(a,x))\n",
    "print(bisect_right(a,x))"
   ]
  },
  {
   "cell_type": "markdown",
   "id": "77770c5d",
   "metadata": {},
   "source": [
    "- **bisect_left(), bisect_right()** 는 '정렬된 데이터'에서 '값이 특정 범위에 속하는 원소의 개수'를 구하고자 할 때, 효과적으로 사용될 수 있다.\n",
    "\n",
    "left_value <= x <= right_value"
   ]
  },
  {
   "cell_type": "code",
   "execution_count": 20,
   "id": "59812f4f",
   "metadata": {},
   "outputs": [
    {
     "name": "stdout",
     "output_type": "stream",
     "text": [
      "2\n",
      "6\n"
     ]
    }
   ],
   "source": [
    "from bisect import bisect_left, bisect_right\n",
    "\n",
    "# 값이 [left_value, right_value]인 데이터의 개수를 반환하는 함수\n",
    "def count_by_range(a, left_value, right_value):\n",
    "    right_index = bisect_right(a, right_value)\n",
    "    left_index = bisect_left(a, left_value)\n",
    "    return right_index - left_index\n",
    "\n",
    "# 리스트 선언\n",
    "a = [1,2,3,3,3,3,4,4,8,9]\n",
    "\n",
    "# 값이 4인 데이터의 개수 출력\n",
    "print(count_by_range(a, 4, 4))\n",
    "\n",
    "# 값이 [-1,3]범위에 있는 데이터 개수 출력\n",
    "print(count_by_range(a, -1, 3))"
   ]
  },
  {
   "cell_type": "markdown",
   "id": "8578e10b",
   "metadata": {},
   "source": [
    "# collections\n",
    "- 유용한 자료구조를 제고하는 표준 라이브러리이다.\n",
    "- 코딩 테스트에서 유용하게 사용되는 클래스는  **deque**와 **Counter**이다.\n",
    "\n",
    "- 보통 파이썬에서는 deque를 사용해 큐를 구현하니! 꼭 기억하자.\n",
    "- \n",
    "- 리스트 자료형은 append() 메서드로 데이터를 추가하거나, pop() 메서드로 데이터를 삭제할 때 '가장 뒤쪽 원소'를 기준으로 수행된다.\n",
    "- 따라서 앞쪽 원소는 리스트에 포함된 데이터의 개수에 따라 많은 시간이 소요될 수 있다.\n",
    "\n",
    "- deque에서는 리스트 자료형과 다르게 인덱싱, 슬라이싱 등의 기능은 사용할 수 없다.\n",
    "\n",
    "- 연속적으로 나열된 데이터의 앞과 뒤에 데이터 삽입과 삭제할때는 효과적이다.\n",
    "\n",
    "- 첫번째 원소를 제거할 때 popleft()를 사용하며, 마지막 원소를 제거할 때 pop()을 사용한다.\n",
    "- 첫번째 원소에 x를 삽입할 때 appendleft(x)를 사용하며, 마지막 원소를 삽입할 때 append(x)를 사용한다."
   ]
  },
  {
   "cell_type": "code",
   "execution_count": 21,
   "id": "6b45d5f2",
   "metadata": {},
   "outputs": [
    {
     "name": "stdout",
     "output_type": "stream",
     "text": [
      "deque([1, 2, 3, 4, 5])\n",
      "[1, 2, 3, 4, 5]\n"
     ]
    }
   ],
   "source": [
    "from collections import deque\n",
    "\n",
    "data = deque([2,3,4])\n",
    "data.appendleft(1)\n",
    "data.append(5)\n",
    "\n",
    "print(data)\n",
    "print(list(data))"
   ]
  },
  {
   "cell_type": "markdown",
   "id": "6285ab87",
   "metadata": {},
   "source": [
    "- collections의 라이브러리의 Counter는 등장 횟수를 세는 기능을 제공한다. "
   ]
  },
  {
   "cell_type": "code",
   "execution_count": 23,
   "id": "c9847558",
   "metadata": {},
   "outputs": [
    {
     "name": "stdout",
     "output_type": "stream",
     "text": [
      "3\n",
      "1\n",
      "{'red': 2, 'blue': 3, 'green': 1}\n"
     ]
    }
   ],
   "source": [
    "from collections import Counter\n",
    "\n",
    "counter = Counter(['red', 'blue', 'red', 'green', 'blue', 'blue'])\n",
    "\n",
    "print(counter['blue'])\n",
    "print(counter['green'])\n",
    "print(dict(counter))"
   ]
  },
  {
   "cell_type": "markdown",
   "id": "ddcf512d",
   "metadata": {},
   "source": [
    "# math\n",
    "- 수학적인 기능을 포함하고 있는 라이브러리이다.\n",
    "- 팩토리얼, 제곱근, 최대공약수 등을 계산해주는 기능을 포함하고 있음."
   ]
  },
  {
   "cell_type": "code",
   "execution_count": 24,
   "id": "37be6433",
   "metadata": {},
   "outputs": [
    {
     "name": "stdout",
     "output_type": "stream",
     "text": [
      "120\n"
     ]
    }
   ],
   "source": [
    "import math\n",
    "\n",
    "print(math.factorial(5))"
   ]
  },
  {
   "cell_type": "code",
   "execution_count": 25,
   "id": "bbf13ad4",
   "metadata": {},
   "outputs": [
    {
     "name": "stdout",
     "output_type": "stream",
     "text": [
      "2.6457513110645907\n"
     ]
    }
   ],
   "source": [
    "import math\n",
    "\n",
    "print(math.sqrt(7))"
   ]
  },
  {
   "cell_type": "code",
   "execution_count": 26,
   "id": "a01e59e0",
   "metadata": {},
   "outputs": [
    {
     "name": "stdout",
     "output_type": "stream",
     "text": [
      "7\n"
     ]
    }
   ],
   "source": [
    "# 최대 공약수\n",
    "import math\n",
    "\n",
    "print(math.gcd(21, 14))"
   ]
  },
  {
   "cell_type": "code",
   "execution_count": 27,
   "id": "a3dd96a5",
   "metadata": {},
   "outputs": [
    {
     "name": "stdout",
     "output_type": "stream",
     "text": [
      "3.141592653589793\n",
      "2.718281828459045\n"
     ]
    }
   ],
   "source": [
    "import math\n",
    "\n",
    "print(math.pi) # 파이 출력\n",
    "print(math.e) # 자연상수 e 출력"
   ]
  }
 ],
 "metadata": {
  "kernelspec": {
   "display_name": "Python 3 (ipykernel)",
   "language": "python",
   "name": "python3"
  },
  "language_info": {
   "codemirror_mode": {
    "name": "ipython",
    "version": 3
   },
   "file_extension": ".py",
   "mimetype": "text/x-python",
   "name": "python",
   "nbconvert_exporter": "python",
   "pygments_lexer": "ipython3",
   "version": "3.9.7"
  }
 },
 "nbformat": 4,
 "nbformat_minor": 5
}
