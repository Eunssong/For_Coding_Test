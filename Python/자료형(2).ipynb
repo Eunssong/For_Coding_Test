{
 "cells": [
  {
   "cell_type": "markdown",
   "id": "d7a6f836",
   "metadata": {},
   "source": [
    "# 사전 자료형\n",
    "- 키와 값의 쌍을 데이터로 가지는 자료형\n",
    "- 우리가 원하는 변경 불가능한 데이터를 키로 사용할 수 있다. \n",
    "    - 변경 불가능한 자료형 : 수 자료형, 문자열 자료형, 튜플 자료형과 같이 한번 초기화되면 변깅이 불가능한 자료형을 의미한다. 튜플 자료형이 사전 자료형의 키로 사용되기도 하는데, 문제 풀이때 나타난다.\n",
    "- 대표적인 예시가 사전이다.\n",
    "\n",
    "- 파이썬의 사전 자료형은 내부적으로 '해시 테이블'을 이용하므로 기본적응로 데이터의 검색 및 수정에 있어서 O(1)의 시간에 처리할 수 있다.\n",
    "- 키-값 쌍으로 구성된 데이터를 처리함에 있어서 리스트보다 빠르게 동작한다.\n",
    "- 리스트보다 훨씬 적은 메모리 공간을 사용할 수 있다.\n",
    "\n",
    "- 사전 자료형에 특정한 원소가 있는지 검사할 때는 '원소 in 사전'의 형태를 사용할 수 있다. 이는 리스트나 튜플에 대해서도 사용할 수 있는 문법이다. \n",
    "    - iterable 자료형: 리스트, 문자열, 튜플 등 원소들을 차례대로 반복할 수 있는 자료형 -> 컨테이너 역할도 하기에 in이 사용 가능하다.\n"
   ]
  },
  {
   "cell_type": "code",
   "execution_count": 1,
   "id": "66e4c676",
   "metadata": {},
   "outputs": [
    {
     "data": {
      "text/plain": [
       "dict"
      ]
     },
     "execution_count": 1,
     "metadata": {},
     "output_type": "execute_result"
    }
   ],
   "source": [
    "ex = {}\n",
    "type(ex)"
   ]
  },
  {
   "cell_type": "code",
   "execution_count": 2,
   "id": "0d389b11",
   "metadata": {},
   "outputs": [
    {
     "name": "stdout",
     "output_type": "stream",
     "text": [
      "'사과'를 키로 가지는 데이터가 존재합니다.\n"
     ]
    }
   ],
   "source": [
    "data = dict()\n",
    "data['사과'] = 'Apple'\n",
    "data['바나나'] = 'Banana'\n",
    "data['코코넛'] = 'Coconut'\n",
    "\n",
    "if '사과' in data:\n",
    "    print(\"'사과'를 키로 가지는 데이터가 존재합니다.\")"
   ]
  },
  {
   "cell_type": "markdown",
   "id": "ee16b9e0",
   "metadata": {},
   "source": [
    "## 사전 자료형 관련 함수"
   ]
  },
  {
   "cell_type": "code",
   "execution_count": 3,
   "id": "86ec1d73",
   "metadata": {},
   "outputs": [
    {
     "name": "stdout",
     "output_type": "stream",
     "text": [
      "dict_keys(['사과', '바나나', '코코넛'])\n",
      "dict_values(['Apple', 'Banana', 'Coconut'])\n"
     ]
    }
   ],
   "source": [
    "# 키 데이터만 담은 리스트\n",
    "key_list = data.keys()\n",
    "\n",
    "# 값 데이터만 담은 리스트\n",
    "value_list = data.values()\n",
    "\n",
    "print(key_list)\n",
    "print(value_list)"
   ]
  },
  {
   "cell_type": "code",
   "execution_count": 4,
   "id": "fff25b25",
   "metadata": {},
   "outputs": [
    {
     "name": "stdout",
     "output_type": "stream",
     "text": [
      "Apple\n",
      "Banana\n",
      "Coconut\n"
     ]
    }
   ],
   "source": [
    "# 각 키에 따른 값을 하나씩 출력\n",
    "for key in key_list:\n",
    "    print(data[key])"
   ]
  },
  {
   "cell_type": "markdown",
   "id": "284e7578",
   "metadata": {},
   "source": [
    "# 집합 자료형\n",
    "- 파이썬에서 집합(Set)을 처리하기 위한 자료형\n",
    "- 기본적으로 리스트 혹은 문자열을 이용해서 만들 수 있는데, 다음과 같은 특징이 있다.\n",
    "    - 중복을 허용하지 않는다.\n",
    "    - 순서가 없다.\n",
    "        - 리스트나 튜플은 순서가 있기 때문에 인덱싱을 통해서 자료형의 값을 얻을 수 있었음.\n",
    "        - 반면에 사전 자료형과 집합 자료형은 순서가 없기 때문에 인덱싱으로 값을 얻을 수 없다는 특징이 있다.\n",
    "        - 집합 자료형에는 키가 존재하지 않고, 값 데이터만 담게 된다.\n",
    "        - 특정 원소가 존재하는지 검사하는 연산의 시간 복잡도는 사전 자료형과 마찬가지로 O(1)이다.\n",
    "- 학생 번호가 주어졌을 때 해당 학생이 선택되었는지 여부를 출력하는 문제에서도 집합 자료형이 효과적으로 사용될 수 있다.\n",
    "- 특히 **특정한 데이터가 이미 등장한 적이 있는지 여부**를 체크할 때 매우 효과적이다.\n",
    "- 집합형을 초기화 할때는 set()함수를 사용하면 된다."
   ]
  },
  {
   "cell_type": "code",
   "execution_count": 5,
   "id": "3ec67dac",
   "metadata": {},
   "outputs": [
    {
     "name": "stdout",
     "output_type": "stream",
     "text": [
      "{1, 2, 3, 4, 5}\n",
      "{1, 2, 3, 4, 5}\n"
     ]
    }
   ],
   "source": [
    "# 집합 자료형 초기화 방법 1\n",
    "data = set([1, 1, 2, 3, 4, 4, 5])\n",
    "print(data)\n",
    "\n",
    "# 집합 자료형 초기화 방법 2\n",
    "data = {1, 1, 2, 3, 4, 4, 5}\n",
    "print(data)"
   ]
  },
  {
   "cell_type": "markdown",
   "id": "359db04f",
   "metadata": {},
   "source": [
    "## 집합 자료형의 연산\n",
    "- 집합 연산으로는 합집합, 교집합, 차집합 연산이 있다.  \n",
    "\n",
    "\n",
    "- 합집합을 계산할 때는 |를 사용한다\n",
    "- 교집합은 &\n",
    "- 차집합 -"
   ]
  },
  {
   "cell_type": "code",
   "execution_count": 6,
   "id": "a7aad006",
   "metadata": {},
   "outputs": [
    {
     "name": "stdout",
     "output_type": "stream",
     "text": [
      "{1, 2, 3, 4, 5, 6, 7}\n",
      "{3, 4, 5}\n",
      "{1, 2}\n"
     ]
    }
   ],
   "source": [
    "a = {1, 2, 3, 4, 5}\n",
    "b = {3, 4, 5, 6, 7}\n",
    "\n",
    "print(a|b) # 합집합\n",
    "print(a&b) # 교집합\n",
    "print(a - b) #차집합"
   ]
  },
  {
   "cell_type": "markdown",
   "id": "aef6e194",
   "metadata": {},
   "source": [
    "## 집합 자료형 관련 함수\n",
    "- 하나의 집합 데이터에 값을 추가할 때는 add()함수를 이용할 수 있다.\n",
    "- updata() 함수는 여러 개의 값을 한꺼번에 추가하고자 할 때 사용한다. \n",
    "- 특정한 값을 제거할 때는 remove() 함수를 이용할 수 있다.\n",
    "- add()와 remove() 함수는 모두 시간 복잡도가 O(1)이다."
   ]
  },
  {
   "cell_type": "code",
   "execution_count": 7,
   "id": "67720598",
   "metadata": {},
   "outputs": [
    {
     "name": "stdout",
     "output_type": "stream",
     "text": [
      "{1, 2, 3}\n",
      "{1, 2, 3, 4}\n",
      "{1, 2, 3, 4, 5, 6}\n",
      "{1, 2, 4, 5, 6}\n"
     ]
    }
   ],
   "source": [
    "data = set([1,2,3])\n",
    "print(data)\n",
    "\n",
    "# 새로운 원소 추가\n",
    "data.add(4)\n",
    "print(data)\n",
    "\n",
    "# 새로운 원소 여러 개 추가\n",
    "data.update([5, 6])\n",
    "print(data)\n",
    "\n",
    "# 특정한 값을 갖는 원소 삭제\n",
    "data.remove(3)\n",
    "print(data)"
   ]
  }
 ],
 "metadata": {
  "kernelspec": {
   "display_name": "Python 3 (ipykernel)",
   "language": "python",
   "name": "python3"
  },
  "language_info": {
   "codemirror_mode": {
    "name": "ipython",
    "version": 3
   },
   "file_extension": ".py",
   "mimetype": "text/x-python",
   "name": "python",
   "nbconvert_exporter": "python",
   "pygments_lexer": "ipython3",
   "version": "3.9.7"
  }
 },
 "nbformat": 4,
 "nbformat_minor": 5
}
