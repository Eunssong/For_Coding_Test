{
 "cells": [
  {
   "cell_type": "markdown",
   "id": "a291d133",
   "metadata": {},
   "source": [
    "# 거스름돈"
   ]
  },
  {
   "cell_type": "code",
   "execution_count": 2,
   "id": "f0dcab93",
   "metadata": {},
   "outputs": [
    {
     "data": {
      "text/plain": [
       "6"
      ]
     },
     "execution_count": 2,
     "metadata": {},
     "output_type": "execute_result"
    }
   ],
   "source": [
    "n = 1260\n",
    "count = 0 \n",
    "\n",
    "# 큰 단위의 화폐부터 차례대로 계산\n",
    "coin_types = [500, 100, 50, 10]\n",
    "\n",
    "for coin in coin_types:\n",
    "    count += n // coin # 해당 화폐로 거슬러 줄 수 있는 동전의 개수\n",
    "    n %= coin\n",
    "    \n",
    "count # 손님이 받은 동전의 최소 개수"
   ]
  },
  {
   "cell_type": "markdown",
   "id": "d251a2fe",
   "metadata": {},
   "source": [
    "# 큰 수의 법칙\n",
    "\n",
    "배열의 크기 N, 숫자가 더해지는 횟수 M, 그리고 K가 주어질 때 \n",
    "- 첫째 줄에 N(2<= N <= 1000), M(1<= M <= 10000), K(1<= K <=10000)의 자연수가 주어지며, 각 자연수는 공백으로 구분한다.\n",
    "- 둘째 줄에 N개의 자연수가 주어진다. 각 자연수는 공백으로 구분한다. 단, 각자의 자연수는 1 이상 10000이하의 수로 주어진다.\n",
    "- 입력으로 주어지는 K는 항상 M보다 작거나 같다. \n",
    "\n",
    "- 첫째 줄에 큰 수의 법칙에 따라 더해진 답을 출력한다.\n",
    "\n",
    "입력 예시  \n",
    "5 8 3\n",
    "2 4 5 4 6 \n",
    "\n",
    "출력 예시   \n",
    "46"
   ]
  },
  {
   "cell_type": "markdown",
   "id": "b25b0572",
   "metadata": {},
   "source": [
    "## 문제 해설\n",
    "- 일단 입력값 중에서 가장 큰수와 두번쨰로 큰 수만 저장하면 된다.\n",
    "- 연속해서 더할 수 있는 횟수는 최대 K번이므로, '가장 큰 수를 K 번 더하고 두번쨰로 큰 수를 한 번 더하는 연산'을 반복하면 된다. \n"
   ]
  },
  {
   "cell_type": "code",
   "execution_count": 4,
   "id": "7e3aca1c",
   "metadata": {},
   "outputs": [
    {
     "name": "stdout",
     "output_type": "stream",
     "text": [
      "5 8 3\n",
      "2 4 5 4 6\n",
      "[2, 4, 4, 5, 6]\n",
      "6 5\n"
     ]
    }
   ],
   "source": [
    "# 단순하게 푸는 방법\n",
    "\n",
    "# N, M, K를 공백으로 구분하여 입력받기\n",
    "n, m, k = map(int, input().split())\n",
    "\n",
    "# N개의 수를 공백으로 구분하여 입력받기\n",
    "data = list(map(int, input().split()))\n",
    "\n",
    "data.sort() # 입력받은 수들 정렬하기\n",
    "print(data)\n",
    "first = data[n-1] # 가장 큰 수\n",
    "second = data[n - 2] # 두번째로 큰 수\n",
    "print(first, second)"
   ]
  },
  {
   "cell_type": "code",
   "execution_count": 5,
   "id": "81ca72d1",
   "metadata": {},
   "outputs": [
    {
     "data": {
      "text/plain": [
       "46"
      ]
     },
     "execution_count": 5,
     "metadata": {},
     "output_type": "execute_result"
    }
   ],
   "source": [
    "result = 0 \n",
    "while True:\n",
    "    for i in range(k):\n",
    "        if m == 0:\n",
    "            break\n",
    "        result += first\n",
    "        m -= 1 # 더할 때마다 1씩 빼기\n",
    "    if m == 0: # m이 0이라면 반복문 탈출\n",
    "        break\n",
    "    result += second # 두번째로 큰 수를 한 번 더하기\n",
    "    m -= 1 # 더할 때마다 1씩 빼기\n",
    "\n",
    "result # 최종 답"
   ]
  },
  {
   "cell_type": "markdown",
   "id": "f6f48240",
   "metadata": {},
   "source": [
    "내가 놓친 부분\n",
    "- 문제가 의미하는 바를 깨닫지 못함 -> 아직 그리드 알고리즘에 대해 이해가 부족함\n",
    "- 입력 값 받는 부분에서 당황함 ->list, map , input().split()에 대해 익숙하지 않음\n",
    "- 입력 값중에서 가장 큰수와 두번째로 큰수를 구해야한다는 감이 안왔음\n",
    "- while과 for문 작성에 있어서 이중 루프라는 것을 잊고 break를 2번 작성하지 않았음. -> 잊지 말자! "
   ]
  },
  {
   "cell_type": "markdown",
   "id": "dd14b6ec",
   "metadata": {},
   "source": [
    "### develp\n",
    "\n",
    "- 반복되는 수열에 대해 파악하면 계산 시간을 절약할 수 있다.\n",
    "- 위와 같은 경우(6,6,6,5)가 반복됨\n",
    "- 반복되는 수열의 길이는 K+1 -> M을 K+1로 나눈 몫이 수열이 반복되는 횟수가 된다.\n",
    "- 여기에 k를 곱해주면 가장 큰 수가 등장하는 횟수가 된다.\n",
    "\n",
    "- M이 (K+1)로 나누어떨어지지 않는 경우도 고려해야 한다.\n",
    "- 그럴 때는 M이 (K+1)로 나눈 나머지가 가장 큰 수가 추가로 더해지므로 이를 고려해주어야 한다.\n",
    "\n",
    "####  가장 큰 수가 더해지는 횟수 계산 : **int(M/(K+1)) * K + M % (K+1)**  "
   ]
  },
  {
   "cell_type": "code",
   "execution_count": 6,
   "id": "83811b4d",
   "metadata": {},
   "outputs": [
    {
     "name": "stdout",
     "output_type": "stream",
     "text": [
      "5 8 3\n",
      "2 4 5 4 6\n",
      "46\n"
     ]
    }
   ],
   "source": [
    "# N, M, K를 공백으로 구분하여 입력받기\n",
    "n, m, k = map(int, input().split())\n",
    "\n",
    "# N개의 수를 공백으로 구분하여 입력받기\n",
    "data = list(map(int, input().split()))\n",
    "\n",
    "data.sort() # 입력받은 수 정렬\n",
    "first = data[n-1] # 가장 큰 수\n",
    "second = data[n-2] # 두번째로 큰 수\n",
    "\n",
    "# 가장 큰 수가 더해지는 횟수 계산\n",
    "count = int(m/(k+1)) * k\n",
    "count += m % (k+1)\n",
    "\n",
    "result = 0 \n",
    "result += (count) * first # 가장 큰 수 더하기\n",
    "result += (m - count) * second # 두번째로 큰 수 더하기\n",
    "\n",
    "print(result) # 최종 답안 출력"
   ]
  }
 ],
 "metadata": {
  "kernelspec": {
   "display_name": "Python 3 (ipykernel)",
   "language": "python",
   "name": "python3"
  },
  "language_info": {
   "codemirror_mode": {
    "name": "ipython",
    "version": 3
   },
   "file_extension": ".py",
   "mimetype": "text/x-python",
   "name": "python",
   "nbconvert_exporter": "python",
   "pygments_lexer": "ipython3",
   "version": "3.9.7"
  }
 },
 "nbformat": 4,
 "nbformat_minor": 5
}
