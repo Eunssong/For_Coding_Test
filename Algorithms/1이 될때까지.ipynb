{
 "cells": [
  {
   "cell_type": "markdown",
   "id": "60024715",
   "metadata": {},
   "source": [
    "어떠한 수 N이 1이 될 때까지 두 과정을 반복적으로 수행한다. 단, 두번쨰 연산은 N이 K로 나누어떨어질 때만 선택할 수 있다. 1번 혹은 2번 과정을 수행해야 하는 최소 횟수를 구해야 한다.\n",
    "\n",
    "1. N에서 1을 뺀다.\n",
    "2. N을 K로 나눈다.\n"
   ]
  },
  {
   "cell_type": "markdown",
   "id": "b4f72ce5",
   "metadata": {},
   "source": [
    "**입력 조건**\n",
    "- 첫째 줄에 N(2<= N <= 100000)과 K(2<= K <= 100000)가 공백으로 구분되며 각각 자연수로 주어진다. 이때 입력으로 주어지는 N은 항상 K보다 크거나 같다.\n",
    "- 첫째 줄에 N이 1이 될 때까지 1번 혹은 2번 과정을 수행해야 하는 최소 회수를 구해야한다.\n",
    "\n",
    "**입력 예시**   \n",
    "25 5   \n",
    "\n",
    "**출력 예시**   \n",
    "2"
   ]
  },
  {
   "cell_type": "code",
   "execution_count": 6,
   "id": "332349a9",
   "metadata": {},
   "outputs": [
    {
     "name": "stdout",
     "output_type": "stream",
     "text": [
      "25 5\n",
      "2\n"
     ]
    }
   ],
   "source": [
    "n, k = map(int, input().split())\n",
    "\n",
    "count = 0\n",
    "while n > 1:\n",
    "    if n % k == 0:\n",
    "        n //= k\n",
    "        count += 1\n",
    "    else:\n",
    "        n -= 1\n",
    "        count += 1\n",
    "    if n == 1:\n",
    "        break\n",
    "\n",
    "print(count)"
   ]
  },
  {
   "cell_type": "markdown",
   "id": "b3d1c61c",
   "metadata": {},
   "source": [
    "## 문제 해설\n",
    "- 최대한 많이 나누기\n",
    "\n",
    "1. N이 K의 배수가 될 때까지 1씩 빼기\n",
    "2. N을 K로 나누기"
   ]
  },
  {
   "cell_type": "code",
   "execution_count": 8,
   "id": "911acb3d",
   "metadata": {},
   "outputs": [
    {
     "name": "stdout",
     "output_type": "stream",
     "text": [
      "25 5\n",
      "2\n"
     ]
    }
   ],
   "source": [
    "n, k = map(int, input().split())\n",
    "\n",
    "result = 0\n",
    "\n",
    "#N이 K 이상이라면 K로 계속 나누기\n",
    "while n >= k:\n",
    "    # N이 K로 나누어 떨어지지 않는다면 N에서 1씩 빼기\n",
    "    while n % k != 0:\n",
    "        n -= 1\n",
    "        result += 1\n",
    "    # K로 나누기\n",
    "    n //= k\n",
    "    result += 1\n",
    "\n",
    "# 마지막으로 남은 수에 대하여 1씩 빼기\n",
    "while n > 1:\n",
    "    n -= 1\n",
    "    result += 1\n",
    "\n",
    "print(result)"
   ]
  },
  {
   "cell_type": "code",
   "execution_count": 9,
   "id": "16277103",
   "metadata": {},
   "outputs": [
    {
     "name": "stdout",
     "output_type": "stream",
     "text": [
      "25 5\n",
      "2\n"
     ]
    }
   ],
   "source": [
    "n, k = map(int, input().split())\n",
    "\n",
    "result = 0\n",
    "\n",
    "while True:\n",
    "    # (N == K로 나누어 떨어지는 수)가 될 때까지 1씩 빼기\n",
    "    target = (n//k)*k\n",
    "    result += (n-target)\n",
    "    \n",
    "    n = target\n",
    "    # N이 K보다 작을 때(더 이상 나눌 수 없을 때)반복문 탈출\n",
    "    if n<k:\n",
    "        break\n",
    "    # K로 나누기\n",
    "    result += 1\n",
    "    n //= k\n",
    "\n",
    "# 마지막으로 남은 수에 대하여 1씩 빼기\n",
    "result += (n-1)\n",
    "print(result)"
   ]
  }
 ],
 "metadata": {
  "kernelspec": {
   "display_name": "Python 3 (ipykernel)",
   "language": "python",
   "name": "python3"
  },
  "language_info": {
   "codemirror_mode": {
    "name": "ipython",
    "version": 3
   },
   "file_extension": ".py",
   "mimetype": "text/x-python",
   "name": "python",
   "nbconvert_exporter": "python",
   "pygments_lexer": "ipython3",
   "version": "3.9.7"
  }
 },
 "nbformat": 4,
 "nbformat_minor": 5
}
